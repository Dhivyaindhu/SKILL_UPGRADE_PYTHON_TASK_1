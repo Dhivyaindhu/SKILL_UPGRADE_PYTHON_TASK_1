{
  "nbformat": 4,
  "nbformat_minor": 0,
  "metadata": {
    "colab": {
      "provenance": [],
      "authorship_tag": "ABX9TyNKpTNsIQKFrQUPqNMs/qZ5",
      "include_colab_link": true
    },
    "kernelspec": {
      "name": "python3",
      "display_name": "Python 3"
    },
    "language_info": {
      "name": "python"
    }
  },
  "cells": [
    {
      "cell_type": "markdown",
      "metadata": {
        "id": "view-in-github",
        "colab_type": "text"
      },
      "source": [
        "<a href=\"https://colab.research.google.com/github/Dhivyaindhu/SKILL_UPGRADE_PYTHON_TASK_1/blob/main/Untitled105.ipynb\" target=\"_parent\"><img src=\"https://colab.research.google.com/assets/colab-badge.svg\" alt=\"Open In Colab\"/></a>"
      ]
    },
    {
      "cell_type": "code",
      "execution_count": 2,
      "metadata": {
        "colab": {
          "base_uri": "https://localhost:8080/"
        },
        "id": "5Ik2dC3qBAEl",
        "outputId": "cbfa0e9a-94c5-420b-c026-a9cea3f0ebf4"
      },
      "outputs": [
        {
          "output_type": "stream",
          "name": "stdout",
          "text": [
            "Select operation:\n",
            "1. Add\n",
            "2. Subtract\n",
            "3. Multiply\n",
            "4. Divide\n",
            "5. Exponentiation (x^y)\n",
            "6. Modulus (x % y)\n",
            "7. Square Root\n",
            "8. Sine\n",
            "9. Cosine\n",
            "10. Tangent\n",
            "Enter choice (1/2/3/4/5/6/7/8/9/10): 3\n",
            "Enter first number: 56\n",
            "Enter second number: 67\n",
            "The result is: 3752.0\n",
            "The calculation is done successfully\n"
          ]
        }
      ],
      "source": [
        "import math\n",
        "\n",
        "def add(x, y):\n",
        "    return x + y\n",
        "\n",
        "def subtract(x, y):\n",
        "    return x - y\n",
        "\n",
        "def multiply(x, y):\n",
        "    return x * y\n",
        "\n",
        "def divide(x, y):\n",
        "    if y == 0:\n",
        "        return \"Error! Division by zero.\"\n",
        "    return x / y\n",
        "\n",
        "def exponent(x, y):\n",
        "    return x ** y\n",
        "\n",
        "def modulus(x, y):\n",
        "    return x % y\n",
        "\n",
        "def square_root(x):\n",
        "    return math.sqrt(x)\n",
        "\n",
        "def sine(x):\n",
        "    return math.sin(math.radians(x))\n",
        "\n",
        "def cosine(x):\n",
        "    return math.cos(math.radians(x))\n",
        "\n",
        "def tangent(x):\n",
        "    return math.tan(math.radians(x))\n",
        "\n",
        "def calculator():\n",
        "    print(\"Select operation:\")\n",
        "    print(\"1. Add\")\n",
        "    print(\"2. Subtract\")\n",
        "    print(\"3. Multiply\")\n",
        "    print(\"4. Divide\")\n",
        "    print(\"5. Exponentiation (x^y)\")\n",
        "    print(\"6. Modulus (x % y)\")\n",
        "    print(\"7. Square Root\")\n",
        "    print(\"8. Sine\")\n",
        "    print(\"9. Cosine\")\n",
        "    print(\"10. Tangent\")\n",
        "\n",
        "    choice = input(\"Enter choice (1/2/3/4/5/6/7/8/9/10): \")\n",
        "\n",
        "    if choice in ['1', '2', '3', '4', '5', '6']:\n",
        "        num1 = float(input(\"Enter first number: \"))\n",
        "        num2 = float(input(\"Enter second number: \"))\n",
        "\n",
        "        if choice == '1':\n",
        "            print(f\"The result is: {add(num1, num2)}\")\n",
        "        elif choice == '2':\n",
        "            print(f\"The result is: {subtract(num1, num2)}\")\n",
        "        elif choice == '3':\n",
        "            print(f\"The result is: {multiply(num1, num2)}\")\n",
        "        elif choice == '4':\n",
        "            print(f\"The result is: {divide(num1, num2)}\")\n",
        "        elif choice == '5':\n",
        "            print(f\"The result is: {exponent(num1, num2)}\")\n",
        "        elif choice == '6':\n",
        "            print(f\"The result is: {modulus(num1, num2)}\")\n",
        "    elif choice == '7':\n",
        "        num = float(input(\"Enter number: \"))\n",
        "        print(f\"The square root is: {square_root(num)}\")\n",
        "    elif choice == '8':\n",
        "        num = float(input(\"Enter angle in degrees: \"))\n",
        "        print(f\"The sine is: {sine(num)}\")\n",
        "    elif choice == '9':\n",
        "        num = float(input(\"Enter angle in degrees: \"))\n",
        "        print(f\"The cosine is: {cosine(num)}\")\n",
        "    elif choice == '10':\n",
        "        num = float(input(\"Enter angle in degrees: \"))\n",
        "        print(f\"The tangent is: {tangent(num)}\")\n",
        "    else:\n",
        "        print(\"Invalid input\")\n",
        "\n",
        "if __name__ == \"__main__\":\n",
        "    calculator()\n",
        "print(\"The calculation is done successfully\")\n"
      ]
    }
  ]
}